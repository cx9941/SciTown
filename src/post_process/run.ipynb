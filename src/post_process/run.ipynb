{
 "cells": [
  {
   "cell_type": "code",
   "execution_count": 2,
   "id": "8e9a6261",
   "metadata": {},
   "outputs": [
    {
     "name": "stderr",
     "output_type": "stream",
     "text": [
      "/var/folders/8t/x9p1qqms7xd5jb98rmwbc93c0000gn/T/ipykernel_92127/1889680378.py:18: FutureWarning: Series.fillna with 'method' is deprecated and will raise in a future version. Use obj.ffill() or obj.bfill() instead.\n",
      "  df['task_name'] = df['task_name'].fillna(method='bfill')\n",
      "/var/folders/8t/x9p1qqms7xd5jb98rmwbc93c0000gn/T/ipykernel_92127/1889680378.py:18: FutureWarning: Series.fillna with 'method' is deprecated and will raise in a future version. Use obj.ffill() or obj.bfill() instead.\n",
      "  df['task_name'] = df['task_name'].fillna(method='bfill')\n",
      "/var/folders/8t/x9p1qqms7xd5jb98rmwbc93c0000gn/T/ipykernel_92127/1889680378.py:18: FutureWarning: Series.fillna with 'method' is deprecated and will raise in a future version. Use obj.ffill() or obj.bfill() instead.\n",
      "  df['task_name'] = df['task_name'].fillna(method='bfill')\n",
      "/var/folders/8t/x9p1qqms7xd5jb98rmwbc93c0000gn/T/ipykernel_92127/1889680378.py:18: FutureWarning: Series.fillna with 'method' is deprecated and will raise in a future version. Use obj.ffill() or obj.bfill() instead.\n",
      "  df['task_name'] = df['task_name'].fillna(method='bfill')\n",
      "/var/folders/8t/x9p1qqms7xd5jb98rmwbc93c0000gn/T/ipykernel_92127/1889680378.py:18: FutureWarning: Series.fillna with 'method' is deprecated and will raise in a future version. Use obj.ffill() or obj.bfill() instead.\n",
      "  df['task_name'] = df['task_name'].fillna(method='bfill')\n",
      "/var/folders/8t/x9p1qqms7xd5jb98rmwbc93c0000gn/T/ipykernel_92127/1889680378.py:18: FutureWarning: Series.fillna with 'method' is deprecated and will raise in a future version. Use obj.ffill() or obj.bfill() instead.\n",
      "  df['task_name'] = df['task_name'].fillna(method='bfill')\n",
      "/var/folders/8t/x9p1qqms7xd5jb98rmwbc93c0000gn/T/ipykernel_92127/1889680378.py:18: FutureWarning: Series.fillna with 'method' is deprecated and will raise in a future version. Use obj.ffill() or obj.bfill() instead.\n",
      "  df['task_name'] = df['task_name'].fillna(method='bfill')\n",
      "/var/folders/8t/x9p1qqms7xd5jb98rmwbc93c0000gn/T/ipykernel_92127/1889680378.py:18: FutureWarning: Series.fillna with 'method' is deprecated and will raise in a future version. Use obj.ffill() or obj.bfill() instead.\n",
      "  df['task_name'] = df['task_name'].fillna(method='bfill')\n",
      "/var/folders/8t/x9p1qqms7xd5jb98rmwbc93c0000gn/T/ipykernel_92127/1889680378.py:18: FutureWarning: Series.fillna with 'method' is deprecated and will raise in a future version. Use obj.ffill() or obj.bfill() instead.\n",
      "  df['task_name'] = df['task_name'].fillna(method='bfill')\n",
      "/var/folders/8t/x9p1qqms7xd5jb98rmwbc93c0000gn/T/ipykernel_92127/1889680378.py:18: FutureWarning: Series.fillna with 'method' is deprecated and will raise in a future version. Use obj.ffill() or obj.bfill() instead.\n",
      "  df['task_name'] = df['task_name'].fillna(method='bfill')\n",
      "/var/folders/8t/x9p1qqms7xd5jb98rmwbc93c0000gn/T/ipykernel_92127/1889680378.py:18: FutureWarning: Series.fillna with 'method' is deprecated and will raise in a future version. Use obj.ffill() or obj.bfill() instead.\n",
      "  df['task_name'] = df['task_name'].fillna(method='bfill')\n",
      "/var/folders/8t/x9p1qqms7xd5jb98rmwbc93c0000gn/T/ipykernel_92127/1889680378.py:18: FutureWarning: Series.fillna with 'method' is deprecated and will raise in a future version. Use obj.ffill() or obj.bfill() instead.\n",
      "  df['task_name'] = df['task_name'].fillna(method='bfill')\n",
      "/var/folders/8t/x9p1qqms7xd5jb98rmwbc93c0000gn/T/ipykernel_92127/1889680378.py:18: FutureWarning: Series.fillna with 'method' is deprecated and will raise in a future version. Use obj.ffill() or obj.bfill() instead.\n",
      "  df['task_name'] = df['task_name'].fillna(method='bfill')\n",
      "/var/folders/8t/x9p1qqms7xd5jb98rmwbc93c0000gn/T/ipykernel_92127/1889680378.py:18: FutureWarning: Series.fillna with 'method' is deprecated and will raise in a future version. Use obj.ffill() or obj.bfill() instead.\n",
      "  df['task_name'] = df['task_name'].fillna(method='bfill')\n"
     ]
    }
   ],
   "source": [
    "import pandas as pd\n",
    "import json\n",
    "import os\n",
    "model_name = 'qwen'\n",
    "\n",
    "\n",
    "query_list = ['城市治理', '极端气候应对', '智慧医疗系统', '灾害预警与响应系统', '水生生态系统治理', '深海探测', '小行星采样与资源开发', '脑-机接口系统研究']\n",
    "for model_name in ['qwen', 'deepseek-v3']:\n",
    "    os.makedirs(f\"../../formated_outputs/execution_log/crossdisc/{model_name}\", exist_ok=True)\n",
    "    for query in query_list:\n",
    "        file_dir = f\"../../outputs/execution_log/crossdisc/{model_name}/{query}\"\n",
    "        if os.path.exists(file_dir):\n",
    "            latest_file = sorted([i for i in os.listdir(file_dir)])[-1]\n",
    "            file_path = f\"{file_dir}/{latest_file}\"\n",
    "            ans = json.load(open(file_path, 'r'))\n",
    "\n",
    "            df = pd.DataFrame(ans)\n",
    "            df['task_name'] = df['task_name'].fillna(method='bfill')\n",
    "            choose_columns = ['task_name', 'agent', 'task', 'answer']\n",
    "            df = df[choose_columns]\n",
    "            df = df[~df['answer'].isna()]\n",
    "            df.to_excel(f\"../../formated_outputs/execution_log/crossdisc/{model_name}/{model_name}-{query}.xlsx\", index=None)\n",
    "            json.dump(df.to_dict(orient='records'), open(f\"../../formated_outputs/execution_log/crossdisc/{model_name}/{model_name}-{query}.json\", 'w'), ensure_ascii=False, indent=4)"
   ]
  }
 ],
 "metadata": {
  "kernelspec": {
   "display_name": "py312",
   "language": "python",
   "name": "python3"
  },
  "language_info": {
   "codemirror_mode": {
    "name": "ipython",
    "version": 3
   },
   "file_extension": ".py",
   "mimetype": "text/x-python",
   "name": "python",
   "nbconvert_exporter": "python",
   "pygments_lexer": "ipython3",
   "version": "3.12.4"
  }
 },
 "nbformat": 4,
 "nbformat_minor": 5
}
